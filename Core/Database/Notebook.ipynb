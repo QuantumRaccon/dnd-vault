{
 "cells": [
  {
   "cell_type": "code",
   "execution_count": 25,
   "id": "4a610211",
   "metadata": {},
   "outputs": [],
   "source": [
    "import pandas as pd\n",
    "import json\n",
    "from parse_json import read_json\n",
    "\n",
    "# Load JSON data with encoding 'utf-8-sig' to handle BOM\n",
    "with open(\"data/classes.json\", encoding='utf-8-sig') as file:\n",
    "    data = json.load(file)\n",
    "\n",
    "classes = data.get(\"class\")\n",
    "Barbarian = classes[0]"
   ]
  },
  {
   "cell_type": "code",
   "execution_count": 22,
   "id": "78568458",
   "metadata": {},
   "outputs": [
    {
     "data": {
      "text/plain": [
       "dict_keys(['name', 'source', 'hd', 'proficiency', 'classTableGroups', 'startingProficiencies', 'startingEquipment', 'classFeatures', 'subclassTitle', 'subclasses', 'fluff', 'fluffPage'])"
      ]
     },
     "execution_count": 22,
     "metadata": {},
     "output_type": "execute_result"
    }
   ],
   "source": [
    "classes[0].keys()"
   ]
  },
  {
   "cell_type": "code",
   "execution_count": 36,
   "id": "30a56b21",
   "metadata": {},
   "outputs": [
    {
     "data": {
      "text/plain": [
       "{'colLabels': ['Rages', 'Rage Damage'],\n",
       " 'rows': [['2', {'type': 'bonus', 'value': 2}],\n",
       "  ['2', {'type': 'bonus', 'value': 2}],\n",
       "  ['3', {'type': 'bonus', 'value': 2}],\n",
       "  ['3', {'type': 'bonus', 'value': 2}],\n",
       "  ['3', {'type': 'bonus', 'value': 2}],\n",
       "  ['4', {'type': 'bonus', 'value': 2}],\n",
       "  ['4', {'type': 'bonus', 'value': 2}],\n",
       "  ['4', {'type': 'bonus', 'value': 2}],\n",
       "  ['4', {'type': 'bonus', 'value': 3}],\n",
       "  ['4', {'type': 'bonus', 'value': 3}],\n",
       "  ['4', {'type': 'bonus', 'value': 3}],\n",
       "  ['5', {'type': 'bonus', 'value': 3}],\n",
       "  ['5', {'type': 'bonus', 'value': 3}],\n",
       "  ['5', {'type': 'bonus', 'value': 3}],\n",
       "  ['5', {'type': 'bonus', 'value': 3}],\n",
       "  ['5', {'type': 'bonus', 'value': 4}],\n",
       "  ['6', {'type': 'bonus', 'value': 4}],\n",
       "  ['6', {'type': 'bonus', 'value': 4}],\n",
       "  ['6', {'type': 'bonus', 'value': 4}],\n",
       "  ['Unlimited', {'type': 'bonus', 'value': 4}]]}"
      ]
     },
     "execution_count": 36,
     "metadata": {},
     "output_type": "execute_result"
    }
   ],
   "source": [
    "Barbarian.get(\"classTableGroups\")[0]"
   ]
  },
  {
   "cell_type": "code",
   "execution_count": 42,
   "id": "a96d28b7",
   "metadata": {},
   "outputs": [
    {
     "data": {
      "text/plain": [
       "{'name': 'Path of the Berserker',\n",
       " 'subclassFeatures': [[{'name': 'Path of the Berserker',\n",
       "    'entries': [\"For some barbarians, rage is a means to an end—that end being violence. The Path of the Berserker is a path of untrammeled fury, slick with blood. As you enter the berserker's rage, you thrill in the chaos of battle, heedless of your own health or well-being.\",\n",
       "     {'type': 'entries',\n",
       "      'name': 'Frenzy',\n",
       "      'entries': ['Starting when you choose this path at 3rd level, you can go into a frenzy when you rage. If you do so, for the duration of your rage you can make a single melee weapon attack as a bonus action on each of your turns after this one. When your rage ends, you suffer one level of {@condition exhaustion}.']}]}],\n",
       "  [{'entries': [{'type': 'entries',\n",
       "      'name': 'Mindless Rage',\n",
       "      'entries': [\"Beginning at 6th level, you can't be {@condition charmed} or {@condition frightened} while raging. If you are {@condition charmed} or {@condition frightened} when you enter your rage, the effect is suspended for the duration of the rage.\"]}]}],\n",
       "  [{'entries': [{'type': 'entries',\n",
       "      'name': 'Intimidating Presence',\n",
       "      'entries': ['Beginning at 10th level, you can use your action to frighten someone with your menacing presence. When you do so, choose one creature that you can see within 30 feet of you. If the creature can see or hear you, it must succeed on a Wisdom saving throw (DC equal to 8 + your proficiency bonus + your Charisma modifier) or be {@condition frightened} of you until the end of your next turn. On subsequent turns, you can use your action to extend the duration of this effect on the {@condition frightened} creature until the end of your next turn. This effect ends if the creature ends its turn out of line of sight or more than 60 feet away from you.',\n",
       "       \"If the creature succeeds on its saving throw, you can't use this feature on that creature again for 24 hours.\"]}]}],\n",
       "  [{'entries': [{'type': 'entries',\n",
       "      'name': 'Retaliation',\n",
       "      'entries': ['Starting at 14th level, when you take damage from a creature that is within 5 feet of you. you can use your reaction to make a melee weapon attack against that creature.']}]}]],\n",
       " 'source': 'PHB',\n",
       " 'shortName': 'Berserker'}"
      ]
     },
     "execution_count": 42,
     "metadata": {},
     "output_type": "execute_result"
    }
   ],
   "source": [
    "Barbarian.get(\"subclasses\")[0]"
   ]
  },
  {
   "cell_type": "code",
   "execution_count": 123,
   "id": "abba6366",
   "metadata": {},
   "outputs": [],
   "source": [
    "with open(\"data/feats-data.json\") as f:\n",
    "    data = json.load(f)"
   ]
  },
  {
   "cell_type": "code",
   "execution_count": 124,
   "id": "c6842ffc",
   "metadata": {},
   "outputs": [],
   "source": [
    "import collections as cc\n",
    "\n",
    "g = []\n",
    "\n",
    "def print_dict(v, prefix=''):\n",
    "    if isinstance(v, dict):\n",
    "        for k, v2 in v.items():\n",
    "            p2 = f\"{prefix}.{k}\"\n",
    "            print_dict(v2, p2)\n",
    "\n",
    "    elif isinstance(v, list):\n",
    "        for i, v2 in enumerate(v):\n",
    "            p2 = f\"{prefix}{i}\"\n",
    "            print_dict(v2, p2)     \n",
    "    else:\n",
    "        g.append([f\"{prefix}\",v])\n",
    "\n",
    "    return g\n",
    "\n",
    "def find_id_key_vals(dct):\n",
    "    id_keys = []\n",
    "    id_vals = []\n",
    "\n",
    "    for j in print_dict(dct):\n",
    "        id_keys.append(j[0].split(\".\",1)) # first instance of .\n",
    "        id_vals.append((j[0].split(\".\")[0], j[1]))\n",
    "    \n",
    "    return id_keys, id_vals\n",
    "\n",
    "\n"
   ]
  },
  {
   "cell_type": "code",
   "execution_count": 45,
   "id": "479b238b",
   "metadata": {},
   "outputs": [],
   "source": [
    "id_k, id_v = find_id_key_vals(data)"
   ]
  },
  {
   "cell_type": "code",
   "execution_count": 46,
   "id": "741e75ce",
   "metadata": {},
   "outputs": [
    {
     "name": "stdout",
     "output_type": "stream",
     "text": [
      "Index with Key: [['0', 'name'], ['0', 'source'], ['0', 'page'], ['0', 'otherSources0.source'], ['0', 'otherSources0.page']]\n",
      "-------------------------\n",
      "Index with Values: [('0', 'Aberrant Dragonmark'), ('0', 'ERLW'), ('0', 52), ('0', 'UAWGE'), ('0', 112)]\n"
     ]
    }
   ],
   "source": [
    "print(\"Index with Key:\", id_k[:5])\n",
    "print(\"-------------------------\")\n",
    "print(\"Index with Values:\", id_v[:5] )"
   ]
  },
  {
   "cell_type": "code",
   "execution_count": 86,
   "id": "0219384a",
   "metadata": {},
   "outputs": [],
   "source": [
    "def dict_lst(lst):\n",
    "    arr = []\n",
    "    for i in range(len(lst)-1):\n",
    "        if lst[i][0] == lst[i+1][0]:\n",
    "            arr.append((lst[i][0], lst[i][1:]))\n",
    "\n",
    "    dct = cc.defaultdict(list) # Calls the default default (each entry is a list) (from collections)\n",
    "\n",
    "    for i,j in arr:\n",
    "        dct[i].extend(j)\n",
    "    \n",
    "    return dct"
   ]
  },
  {
   "cell_type": "code",
   "execution_count": 87,
   "id": "d496002e",
   "metadata": {},
   "outputs": [],
   "source": [
    "def val_parse(id_v):\n",
    "\n",
    "    dct = cc.defaultdict(list)\n",
    "    for i,j in id_v:\n",
    "        dct[i].append(j)\n",
    "\n",
    "    return dct"
   ]
  },
  {
   "cell_type": "code",
   "execution_count": 96,
   "id": "e9dcbe92",
   "metadata": {},
   "outputs": [],
   "source": [
    "key_dict = dict_lst(id_k)\n",
    "val_dict = val_parse(id_v)"
   ]
  },
  {
   "cell_type": "code",
   "execution_count": 119,
   "id": "10d5e694",
   "metadata": {},
   "outputs": [],
   "source": [
    "g = []\n",
    "\n",
    "for i, v in key_dict.items():\n",
    "    u = list(zip(v, val_dict[i]))\n",
    "    g.append(u)\n",
    "\n",
    "keys_ = key_dict.keys()"
   ]
  },
  {
   "cell_type": "code",
   "execution_count": 121,
   "id": "9779723c",
   "metadata": {},
   "outputs": [
    {
     "data": {
      "text/html": [
       "<div>\n",
       "<style scoped>\n",
       "    .dataframe tbody tr th:only-of-type {\n",
       "        vertical-align: middle;\n",
       "    }\n",
       "\n",
       "    .dataframe tbody tr th {\n",
       "        vertical-align: top;\n",
       "    }\n",
       "\n",
       "    .dataframe thead th {\n",
       "        text-align: right;\n",
       "    }\n",
       "</style>\n",
       "<table border=\"1\" class=\"dataframe\">\n",
       "  <thead>\n",
       "    <tr style=\"text-align: right;\">\n",
       "      <th></th>\n",
       "      <th>0</th>\n",
       "      <th>1</th>\n",
       "    </tr>\n",
       "  </thead>\n",
       "  <tbody>\n",
       "    <tr>\n",
       "      <th>0</th>\n",
       "      <td>0</td>\n",
       "      <td>[(name, Aberrant Dragonmark), (source, ERLW), ...</td>\n",
       "    </tr>\n",
       "    <tr>\n",
       "      <th>1</th>\n",
       "      <td>1</td>\n",
       "      <td>[(name, Actor), (source, PHB), (page, 165), (a...</td>\n",
       "    </tr>\n",
       "    <tr>\n",
       "      <th>2</th>\n",
       "      <td>2</td>\n",
       "      <td>[(name, Alchemist), (source, UAFeats), (page, ...</td>\n",
       "    </tr>\n",
       "    <tr>\n",
       "      <th>3</th>\n",
       "      <td>3</td>\n",
       "      <td>[(name, Alert), (source, PHB), (page, 165), (e...</td>\n",
       "    </tr>\n",
       "    <tr>\n",
       "      <th>4</th>\n",
       "      <td>4</td>\n",
       "      <td>[(name, Artificer Initiate), (source, TCE), (p...</td>\n",
       "    </tr>\n",
       "    <tr>\n",
       "      <th>...</th>\n",
       "      <td>...</td>\n",
       "      <td>...</td>\n",
       "    </tr>\n",
       "    <tr>\n",
       "      <th>108</th>\n",
       "      <td>108</td>\n",
       "      <td>[(name, Vigor of the Hill Giant), (source, UA2...</td>\n",
       "    </tr>\n",
       "    <tr>\n",
       "      <th>109</th>\n",
       "      <td>109</td>\n",
       "      <td>[(name, War Caster), (source, PHB), (page, 170...</td>\n",
       "    </tr>\n",
       "    <tr>\n",
       "      <th>110</th>\n",
       "      <td>110</td>\n",
       "      <td>[(name, Warhammer Master), (source, UAFeats), ...</td>\n",
       "    </tr>\n",
       "    <tr>\n",
       "      <th>111</th>\n",
       "      <td>111</td>\n",
       "      <td>[(name, Weapon Master), (source, PHB), (page, ...</td>\n",
       "    </tr>\n",
       "    <tr>\n",
       "      <th>112</th>\n",
       "      <td>112</td>\n",
       "      <td>[(name, Wood Elf Magic), (source, XGE), (page,...</td>\n",
       "    </tr>\n",
       "  </tbody>\n",
       "</table>\n",
       "<p>113 rows × 2 columns</p>\n",
       "</div>"
      ],
      "text/plain": [
       "       0                                                  1\n",
       "0      0  [(name, Aberrant Dragonmark), (source, ERLW), ...\n",
       "1      1  [(name, Actor), (source, PHB), (page, 165), (a...\n",
       "2      2  [(name, Alchemist), (source, UAFeats), (page, ...\n",
       "3      3  [(name, Alert), (source, PHB), (page, 165), (e...\n",
       "4      4  [(name, Artificer Initiate), (source, TCE), (p...\n",
       "..   ...                                                ...\n",
       "108  108  [(name, Vigor of the Hill Giant), (source, UA2...\n",
       "109  109  [(name, War Caster), (source, PHB), (page, 170...\n",
       "110  110  [(name, Warhammer Master), (source, UAFeats), ...\n",
       "111  111  [(name, Weapon Master), (source, PHB), (page, ...\n",
       "112  112  [(name, Wood Elf Magic), (source, XGE), (page,...\n",
       "\n",
       "[113 rows x 2 columns]"
      ]
     },
     "execution_count": 121,
     "metadata": {},
     "output_type": "execute_result"
    }
   ],
   "source": [
    "pd.DataFrame(list(zip(keys_,g)))"
   ]
  },
  {
   "cell_type": "code",
   "execution_count": null,
   "id": "3cdbf6f6",
   "metadata": {},
   "outputs": [],
   "source": []
  }
 ],
 "metadata": {
  "kernelspec": {
   "display_name": "Python 3 (ipykernel)",
   "language": "python",
   "name": "python3"
  },
  "language_info": {
   "codemirror_mode": {
    "name": "ipython",
    "version": 3
   },
   "file_extension": ".py",
   "mimetype": "text/x-python",
   "name": "python",
   "nbconvert_exporter": "python",
   "pygments_lexer": "ipython3",
   "version": "3.10.9"
  },
  "latex_envs": {
   "LaTeX_envs_menu_present": true,
   "autoclose": true,
   "autocomplete": false,
   "bibliofile": "biblio.bib",
   "cite_by": "apalike",
   "current_citInitial": 1,
   "eqLabelWithNumbers": true,
   "eqNumInitial": 1,
   "hotkeys": {
    "equation": "Ctrl-E",
    "itemize": "Ctrl-I"
   },
   "labels_anchors": false,
   "latex_user_defs": false,
   "report_style_numbering": false,
   "user_envs_cfg": false
  },
  "varInspector": {
   "cols": {
    "lenName": 16,
    "lenType": 16,
    "lenVar": 40
   },
   "kernels_config": {
    "python": {
     "delete_cmd_postfix": "",
     "delete_cmd_prefix": "del ",
     "library": "var_list.py",
     "varRefreshCmd": "print(var_dic_list())"
    },
    "r": {
     "delete_cmd_postfix": ") ",
     "delete_cmd_prefix": "rm(",
     "library": "var_list.r",
     "varRefreshCmd": "cat(var_dic_list()) "
    }
   },
   "types_to_exclude": [
    "module",
    "function",
    "builtin_function_or_method",
    "instance",
    "_Feature"
   ],
   "window_display": false
  },
  "vscode": {
   "interpreter": {
    "hash": "7ee2c9e46e0562db4e5cffea9f29501a27044de691ecaf02917e002cdb7c6022"
   }
  }
 },
 "nbformat": 4,
 "nbformat_minor": 5
}

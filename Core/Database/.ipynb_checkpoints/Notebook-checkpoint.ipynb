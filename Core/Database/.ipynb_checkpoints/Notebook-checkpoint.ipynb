{
 "cells": [
  {
   "cell_type": "code",
   "execution_count": null,
   "id": "6b8c3eec",
   "metadata": {},
   "outputs": [],
   "source": [
    "# {'color', 'atk', 'disease', 'trap', 'link', 'recharge', 'variantrule', 'class'}\n",
    "\n"
   ]
  },
  {
   "cell_type": "code",
   "execution_count": 30,
   "id": "d0fa1359",
   "metadata": {},
   "outputs": [
    {
     "name": "stderr",
     "output_type": "stream",
     "text": [
      "100%|█████████████████████████████████████████████████████████████████████████████████████████████████████████████████| 122/122 [00:39<00:00,  3.13it/s]"
     ]
    },
    {
     "name": "stdout",
     "output_type": "stream",
     "text": [
      "{'variantrule', 'class'}\n"
     ]
    },
    {
     "name": "stderr",
     "output_type": "stream",
     "text": [
      "\n"
     ]
    }
   ],
   "source": [
    "import pandas as pd\n",
    "import numpy as np\n",
    "from tqdm import tqdm\n",
    "from parse_json import read_json, print_missing_elements, request_img, check_directory, parse_text\n",
    "\n",
    "df = pd.read_json(\"data/languages-data.json\")\n",
    "df = df.replace({np.nan: None})\n",
    "df[\"name\"] = df[\"name\"].where(~df.name.duplicated(), df.name + \"(D)\")\n",
    "\n",
    "path = \"D:\\\\Archivos\\\\D&D 5e\\\\Core\\\\Languages\\\\\"\n",
    "check_directory(path)\n",
    "\n",
    "for i in tqdm(range(df.index.size)):\n",
    "\n",
    "    lan = df.iloc[i]\n",
    "\n",
    "    metadata = \"---\\n\"\n",
    "    data = \"\\n\"\n",
    "\n",
    "    name = lan[\"name\"]\n",
    "    metadata += f\"source: {lan.source}\\npage: {lan.page}\\n\"\n",
    "\n",
    "    if lan.type != None:\n",
    "        metadata += f\"type: {lan.type}\\n\"\n",
    "    if lan.script != None:\n",
    "        metadata += f\"script: {lan.script}\\n\"\n",
    "    if lan.dialects != None:\n",
    "        metadata += f\"dialect: {lan.dialects}\\n\"\n",
    "\n",
    "    metadata += \"---\\n\"\n",
    "        \n",
    "    if lan.typicalSpeakers != None:\n",
    "        data += \"speakers:: \" + \", \".join([parse_text(k) for k in lan.typicalSpeakers]) + \"\\n\\n\"\n",
    "        \n",
    "    if lan.entries != None:\n",
    "        data += read_json(lan.entries)\n",
    "\n",
    "    if lan.hasFluffImages != None:\n",
    "        link = f\"https://5e.tools/img/languages/{lan.source}/\"\n",
    "        image = request_img(link, name)\n",
    "        image = f\"![|600]({image})\"\n",
    "        data += image\n",
    "\n",
    "    with open(path+name+\".md\", \"w\") as file:\n",
    "        file.write(metadata)\n",
    "        file.write(data)\n",
    "        \n",
    "print_missing_elements()\n",
    "    "
   ]
  },
  {
   "cell_type": "code",
   "execution_count": 26,
   "id": "0aa0b377",
   "metadata": {},
   "outputs": [
    {
     "name": "stdout",
     "output_type": "stream",
     "text": [
      "Selesnya /[[druid]], Golgari /[[druid]]\n"
     ]
    }
   ],
   "source": [
    "print(\", \".join([parse_text(df.iloc[27].typicalSpeakers[0]), parse_text(df.iloc[27].typicalSpeakers[1]) ]))"
   ]
  },
  {
   "cell_type": "code",
   "execution_count": 28,
   "id": "37a4f4a6",
   "metadata": {},
   "outputs": [
    {
     "data": {
      "text/plain": [
       "'Selesnya /[[druid]], Golgari /[[druid]]'"
      ]
     },
     "execution_count": 28,
     "metadata": {},
     "output_type": "execute_result"
    }
   ],
   "source": [
    "\", \".join([parse_text(b) for b in df.iloc[27].typicalSpeakers])"
   ]
  },
  {
   "cell_type": "code",
   "execution_count": 29,
   "id": "b044f9c0",
   "metadata": {},
   "outputs": [
    {
     "data": {
      "text/plain": [
       "'speakers:: Selesnya /[[druid]], Golgari /[[druid]]\\n\\n'"
      ]
     },
     "execution_count": 29,
     "metadata": {},
     "output_type": "execute_result"
    }
   ],
   "source": [
    "\"speakers:: \" + \", \".join([parse_text(k) for k in df.iloc[27].typicalSpeakers]) + \"\\n\\n\""
   ]
  },
  {
   "cell_type": "code",
   "execution_count": null,
   "id": "a3ef528d",
   "metadata": {},
   "outputs": [],
   "source": []
  }
 ],
 "metadata": {
  "kernelspec": {
   "display_name": "Python 3 (ipykernel)",
   "language": "python",
   "name": "python3"
  },
  "language_info": {
   "codemirror_mode": {
    "name": "ipython",
    "version": 3
   },
   "file_extension": ".py",
   "mimetype": "text/x-python",
   "name": "python",
   "nbconvert_exporter": "python",
   "pygments_lexer": "ipython3",
   "version": "3.9.7"
  },
  "latex_envs": {
   "LaTeX_envs_menu_present": true,
   "autoclose": true,
   "autocomplete": false,
   "bibliofile": "biblio.bib",
   "cite_by": "apalike",
   "current_citInitial": 1,
   "eqLabelWithNumbers": true,
   "eqNumInitial": 1,
   "hotkeys": {
    "equation": "Ctrl-E",
    "itemize": "Ctrl-I"
   },
   "labels_anchors": false,
   "latex_user_defs": false,
   "report_style_numbering": false,
   "user_envs_cfg": false
  },
  "varInspector": {
   "cols": {
    "lenName": 16,
    "lenType": 16,
    "lenVar": 40
   },
   "kernels_config": {
    "python": {
     "delete_cmd_postfix": "",
     "delete_cmd_prefix": "del ",
     "library": "var_list.py",
     "varRefreshCmd": "print(var_dic_list())"
    },
    "r": {
     "delete_cmd_postfix": ") ",
     "delete_cmd_prefix": "rm(",
     "library": "var_list.r",
     "varRefreshCmd": "cat(var_dic_list()) "
    }
   },
   "types_to_exclude": [
    "module",
    "function",
    "builtin_function_or_method",
    "instance",
    "_Feature"
   ],
   "window_display": false
  }
 },
 "nbformat": 4,
 "nbformat_minor": 5
}
